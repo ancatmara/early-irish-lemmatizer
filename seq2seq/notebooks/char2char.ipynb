{
 "cells": [
  {
   "cell_type": "markdown",
   "metadata": {},
   "source": [
    "## Sequence to sequence learning from TensorFlow"
   ]
  },
  {
   "cell_type": "code",
   "execution_count": 1,
   "metadata": {
    "collapsed": true
   },
   "outputs": [],
   "source": [
    "# ngram encoding and decoding\n",
    "\n",
    "def word2ngrams(word, n=3):\n",
    "    ngrams = [word[i:i+n] for i in range(len(word)-n+1)]\n",
    "    return ngrams\n",
    "    \n",
    "def ngrams2word(ngrams, n=3):\n",
    "    word = ''.join([ngram[0] for ngram in ngrams])\n",
    "    try:\n",
    "        word += ngrams[-1][-2] + ngrams[-1][-1]\n",
    "    except IndexError:\n",
    "        pass\n",
    "    return word"
   ]
  },
  {
   "cell_type": "code",
   "execution_count": 3,
   "metadata": {
    "collapsed": false
   },
   "outputs": [
    {
     "name": "stdout",
     "output_type": "stream",
     "text": [
      "dochenélaigidir\n",
      "[4, 21, 21, 18, 17, 7, 18, 12, 6, 11, 8, 17, 8, 1, 15, 4, 12, 10, 22, 12, 24, 21, 22, 4]\n",
      "eschoitchennaighthe\n",
      "[8, 22, 6, 11, 18, 12, 23, 6, 11, 8, 17, 17, 4, 12, 10, 11, 23, 11, 8]\n",
      "triscatail-trénfher\n",
      "[23, 21, 12, 22, 6, 4, 23, 4, 12, 15, 23, 21, 34, 17, 9, 11, 8, 21]\n",
      "19\n",
      "24\n",
      "43\n"
     ]
    }
   ],
   "source": [
    "# converting trigrams and letters to indices\n",
    "import codecs\n",
    "\n",
    "# letters = u\"́ -_'abcdefghijklmnopqrstuvwxyzáóúíéṡḟōäïāūæēṅǽüöβīḯṁëăęɔĭĕœ\"\n",
    "letters = u\"́-_'abcdefghijklmnopqrstuvwxyzáóúíéṡḟæǽβęœī\"\n",
    "\n",
    "# cleaned dictionary \n",
    "with codecs.open('LemmaDict.txt', 'r', encoding='utf-8') as f:\n",
    "    LemmaDict ={}\n",
    "    for line in f:\n",
    "        try:\n",
    "            items = line.strip('\\r\\n').split('\\t')\n",
    "            LemmaDict[items[0]] = items[1]\n",
    "        except IndexError:\n",
    "            pass\n",
    "\n",
    "index_to_letter = dict(enumerate(letters))\n",
    "letter_to_index = dict((v, k) for k,v in index_to_letter.items())\n",
    "\n",
    "\n",
    "EncodedLemmaDict = {}\n",
    "for form, lemma in LemmaDict.items():\n",
    "    try:\n",
    "        EncodedLemmaDict[lemma.lower()] = [letter_to_index[letter] for letter in form]\n",
    "    except IndexError:\n",
    "        pass\n",
    "    \n",
    "max_k = max([len(k) for k,v in EncodedLemmaDict.items()])\n",
    "max_v = max([len(v) for k,v in EncodedLemmaDict.items()])\n",
    "for k,v in EncodedLemmaDict.items():\n",
    "    if len(k) == max_k or  len(v) == max_v:\n",
    "        print(k)\n",
    "        print(v)\n",
    "        \n",
    "print max_k\n",
    "print max_v\n",
    "print len(letters)"
   ]
  },
  {
   "cell_type": "code",
   "execution_count": 4,
   "metadata": {
    "collapsed": true
   },
   "outputs": [],
   "source": [
    "import numpy as np\n",
    "\n",
    "pairs = np.random.permutation(list(EncodedLemmaDict.keys()))\n",
    "\n",
    "input_ = np.zeros((len(pairs), 25))\n",
    "labels_ = np.zeros((len(pairs), 19))\n",
    "\n",
    "for i, k in enumerate(pairs):\n",
    "    v = EncodedLemmaDict[k]\n",
    "    k = k + \"_\" * (19 - len(k))\n",
    "    v = v + [0] * (25 - len(v))\n",
    "    for j, n in enumerate(v):\n",
    "        input_[i][j] = n\n",
    "    for j, letter in enumerate(k):\n",
    "        try:\n",
    "            labels_[i][j] = letter_to_index[letter]\n",
    "        except IndexError:\n",
    "            print k\n",
    "        \n",
    "input_ = input_.astype(np.int32)\n",
    "labels_ = labels_.astype(np.int32)\n",
    "\n",
    "input_test   = input_[:5000]\n",
    "input_val    = input_[5000:10000]\n",
    "input_train  = input_[10000:]\n",
    "labels_test  = labels_[:5000]\n",
    "labels_val   = labels_[5000:10000]\n",
    "labels_train = labels_[10000:]\n",
    "\n",
    "data_test  = zip(input_test, labels_test)\n",
    "data_val   = zip(input_val, labels_val)\n",
    "data_train = zip(input_train, labels_train)"
   ]
  },
  {
   "cell_type": "code",
   "execution_count": 5,
   "metadata": {
    "collapsed": false
   },
   "outputs": [
    {
     "data": {
      "text/plain": [
       "'1.0.0'"
      ]
     },
     "execution_count": 5,
     "metadata": {},
     "output_type": "execute_result"
    }
   ],
   "source": [
    "import tensorflow as tf\n",
    "import numpy as np\n",
    "from tensorflow.python.framework import ops\n",
    "from tensorflow.contrib.rnn import RNNCell, MultiRNNCell, DropoutWrapper, BasicLSTMCell\n",
    "from tensorflow.contrib.legacy_seq2seq import embedding_rnn_seq2seq, sequence_loss\n",
    "from tensorflow.contrib import seq2seq\n",
    "\n",
    "\n",
    "tf.__version__"
   ]
  },
  {
   "cell_type": "code",
   "execution_count": 6,
   "metadata": {
    "collapsed": true
   },
   "outputs": [],
   "source": [
    "ops.reset_default_graph()\n",
    "try:\n",
    "    sess.close()\n",
    "except:\n",
    "    \n",
    "    pass\n",
    "sess = tf.InteractiveSession()"
   ]
  },
  {
   "cell_type": "code",
   "execution_count": 7,
   "metadata": {
    "collapsed": true
   },
   "outputs": [],
   "source": [
    "input_seq_length = 25\n",
    "output_seq_length = 19\n",
    "batch_size = 128\n",
    "\n",
    "input_vocab_size = 9686\n",
    "output_vocab_size = 43\n",
    "embedding_dim = 256"
   ]
  },
  {
   "cell_type": "code",
   "execution_count": 8,
   "metadata": {
    "collapsed": true
   },
   "outputs": [],
   "source": [
    "encode_input = [tf.placeholder(tf.int32, \n",
    "                                shape=(None,),\n",
    "                                name = \"ei_%i\" %i)\n",
    "                                for i in range(input_seq_length)]\n",
    "\n",
    "labels = [tf.placeholder(tf.int32,\n",
    "                                shape=(None,),\n",
    "                                name = \"l_%i\" %i)\n",
    "                                for i in range(output_seq_length)]\n",
    "\n",
    "decode_input = [tf.zeros_like(encode_input[0], dtype=np.int32, name=\"GO\")] + labels[:-1]"
   ]
  },
  {
   "cell_type": "code",
   "execution_count": 9,
   "metadata": {
    "collapsed": true
   },
   "outputs": [],
   "source": [
    "keep_prob = tf.placeholder(\"float\")\n",
    "\n",
    "cells = [DropoutWrapper(\n",
    "        BasicLSTMCell(embedding_dim), output_keep_prob=keep_prob) for i in range(3)]\n",
    "\n",
    "stacked_lstm = MultiRNNCell(cells)\n",
    "\n",
    "with tf.variable_scope(\"decoders\") as scope:\n",
    "    decode_outputs, decode_state = embedding_rnn_seq2seq(\n",
    "        encode_input, decode_input, stacked_lstm, input_vocab_size, output_vocab_size, embedding_dim)\n",
    "    \n",
    "    scope.reuse_variables()\n",
    "    \n",
    "    decode_outputs_test, decode_state_test = embedding_rnn_seq2seq(\n",
    "        encode_input, decode_input, stacked_lstm, input_vocab_size, output_vocab_size, embedding_dim,\n",
    "    feed_previous=True)\n"
   ]
  },
  {
   "cell_type": "code",
   "execution_count": 10,
   "metadata": {
    "collapsed": true
   },
   "outputs": [],
   "source": [
    "loss_weights = [tf.ones_like(l, dtype=tf.float32) for l in labels]\n",
    "loss = sequence_loss(decode_outputs, labels, loss_weights, output_vocab_size)\n",
    "optimizer = tf.train.AdamOptimizer(1e-4)\n",
    "train_op = optimizer.minimize(loss)"
   ]
  },
  {
   "cell_type": "code",
   "execution_count": 11,
   "metadata": {
    "collapsed": false
   },
   "outputs": [
    {
     "name": "stdout",
     "output_type": "stream",
     "text": [
      "WARNING:tensorflow:From <ipython-input-11-9f5df2c7784a>:1: initialize_all_variables (from tensorflow.python.ops.variables) is deprecated and will be removed after 2017-03-02.\n",
      "Instructions for updating:\n",
      "Use `tf.global_variables_initializer` instead.\n"
     ]
    }
   ],
   "source": [
    "sess.run(tf.initialize_all_variables())"
   ]
  },
  {
   "cell_type": "markdown",
   "metadata": {},
   "source": [
    "### Training model"
   ]
  },
  {
   "cell_type": "code",
   "execution_count": 12,
   "metadata": {
    "collapsed": false
   },
   "outputs": [
    {
     "name": "stdout",
     "output_type": "stream",
     "text": [
      "(array([ 6, 18, 16, 23, 11, 30, 12, 17, 22, 12, 10, 12,  7,  0,  0,  0,  0,\n",
      "        0,  0,  0,  0,  0,  0,  0,  0], dtype=int32), array([ 6, 18, 16, 23, 11, 30, 12, 17, 22, 12, 10, 12,  7,  2,  2,  2,  2,\n",
      "        2,  2], dtype=int32))\n"
     ]
    }
   ],
   "source": [
    "print data_train[58]"
   ]
  },
  {
   "cell_type": "code",
   "execution_count": 13,
   "metadata": {
    "collapsed": true
   },
   "outputs": [],
   "source": [
    "class DataIterator:\n",
    "    def __init__(self, data, batch_size):\n",
    "        self.data = data\n",
    "        self.batch_size = batch_size\n",
    "        self.iter = self.make_random_iter()\n",
    "        \n",
    "    def next_batch(self):\n",
    "        try:\n",
    "            idxs = self.iter.next()\n",
    "        except StopIteration:\n",
    "            self.iter = self.make_random_iter()\n",
    "            idxs = self.iter.next()\n",
    "        X, Y = zip(*[self.data[i] for i in idxs])\n",
    "        X = np.array(X).T\n",
    "        Y = np.array(Y).T\n",
    "        return X, Y\n",
    "\n",
    "    def make_random_iter(self):\n",
    "        splits = np.arange(self.batch_size, len(self.data), self.batch_size)\n",
    "        it = np.split(np.random.permutation(range(len(self.data))), splits)[:-1]\n",
    "        return iter(it)\n",
    "    \n",
    "train_iter = DataIterator(data_train, 128)\n",
    "val_iter = DataIterator(data_val, 128)\n",
    "test_iter = DataIterator(data_test, 128)"
   ]
  },
  {
   "cell_type": "code",
   "execution_count": 14,
   "metadata": {
    "collapsed": true
   },
   "outputs": [],
   "source": [
    "import sys\n",
    "\n",
    "def get_feed(X, Y):\n",
    "    feed_dict = {encode_input[t]: X[t] for t in range(input_seq_length)}\n",
    "    feed_dict.update({labels[t]: Y[t] for t in range(output_seq_length)})\n",
    "    return feed_dict\n",
    "\n",
    "def train_batch(data_iter):\n",
    "    X, Y = data_iter.next_batch()\n",
    "    feed_dict = get_feed(X, Y)\n",
    "    feed_dict[keep_prob] = 0.5\n",
    "    _, out = sess.run([train_op, loss], feed_dict)\n",
    "    return out\n",
    "\n",
    "def get_eval_batch_data(data_iter):\n",
    "    X, Y = data_iter.next_batch()\n",
    "    feed_dict = get_feed(X, Y)\n",
    "    feed_dict[keep_prob] = 1.\n",
    "    all_output = sess.run([loss] + decode_outputs_test, feed_dict)\n",
    "    eval_loss = all_output[0]\n",
    "    decode_output = np.array(all_output[1:]).transpose([1,0,2])\n",
    "    return eval_loss, decode_output, X, Y\n",
    "\n",
    "def eval_batch(data_iter, num_batches):\n",
    "    losses = []\n",
    "    predict_loss = []\n",
    "    for i in range(num_batches):\n",
    "        eval_loss, output, X, Y = get_eval_batch_data(data_iter)\n",
    "        losses.append(eval_loss)\n",
    "        \n",
    "        for index in range(len(output)):\n",
    "            real = Y.T[index]\n",
    "            predict = np.argmax(output, axis = 2)[index]\n",
    "            predict_loss.append(all(real==predict))\n",
    "    return np.mean(losses), np.mean(predict_loss)"
   ]
  },
  {
   "cell_type": "code",
   "execution_count": 15,
   "metadata": {
    "collapsed": false
   },
   "outputs": [
    {
     "name": "stdout",
     "output_type": "stream",
     "text": [
      "val loss   : 3.695979, val predict   = 0.0%\n",
      "train loss : 3.695721, train predict = 0.0%\n",
      "\n",
      "time elapsed: 0:00:33.940537\n",
      "\n",
      "val loss   : 0.727289, val predict   = 0.6%\n",
      "train loss : 0.761805, train predict = 0.6%\n",
      "\n",
      "time elapsed: 0:00:31.475351\n",
      "\n",
      "val loss   : 0.423291, val predict   = 16.5%\n",
      "train loss : 0.423748, train predict = 18.0%\n",
      "\n",
      "time elapsed: 0:00:30.732873\n",
      "\n",
      "val loss   : 0.269698, val predict   = 40.3%\n",
      "train loss : 0.280837, train predict = 38.8%\n",
      "\n",
      "time elapsed: 0:00:30.683988\n",
      "\n",
      "val loss   : 0.222835, val predict   = 56.0%\n",
      "train loss : 0.215502, train predict = 56.0%\n",
      "\n",
      "time elapsed: 0:00:30.744834\n",
      "\n",
      "val loss   : 0.195200, val predict   = 61.8%\n",
      "train loss : 0.189281, train predict = 62.6%\n",
      "\n",
      "time elapsed: 0:00:30.834877\n",
      "\n",
      "val loss   : 0.189888, val predict   = 65.3%\n",
      "train loss : 0.154252, train predict = 68.3%\n",
      "\n",
      "time elapsed: 0:00:30.887578\n",
      "\n",
      "val loss   : 0.172446, val predict   = 67.3%\n",
      "train loss : 0.138152, train predict = 71.0%\n",
      "\n",
      "time elapsed: 0:00:30.950986\n",
      "\n",
      "val loss   : 0.172786, val predict   = 68.3%\n",
      "train loss : 0.130444, train predict = 70.5%\n",
      "\n",
      "time elapsed: 0:00:30.902990\n",
      "\n",
      "val loss   : 0.153132, val predict   = 69.8%\n",
      "train loss : 0.112442, train predict = 72.3%\n",
      "\n",
      "time elapsed: 0:00:30.852411\n",
      "\n",
      "val loss   : 0.165842, val predict   = 68.4%\n",
      "train loss : 0.110079, train predict = 71.7%\n",
      "\n",
      "time elapsed: 0:00:30.891534\n",
      "\n",
      "val loss   : 0.169354, val predict   = 67.9%\n",
      "train loss : 0.098584, train predict = 72.8%\n",
      "\n",
      "time elapsed: 0:00:30.850614\n",
      "\n",
      "val loss   : 0.160117, val predict   = 69.4%\n",
      "train loss : 0.088538, train predict = 75.0%\n",
      "\n",
      "time elapsed: 0:00:30.905755\n",
      "\n",
      "val loss   : 0.171204, val predict   = 67.5%\n",
      "train loss : 0.077081, train predict = 77.0%\n",
      "\n",
      "time elapsed: 0:00:30.949735\n",
      "\n",
      "val loss   : 0.173673, val predict   = 69.8%\n",
      "train loss : 0.074531, train predict = 77.1%\n",
      "\n",
      "time elapsed: 0:00:31.090155\n",
      "\n",
      "val loss   : 0.165341, val predict   = 68.2%\n",
      "train loss : 0.059654, train predict = 80.8%\n",
      "\n",
      "time elapsed: 0:00:31.084543\n",
      "\n",
      "val loss   : 0.194081, val predict   = 66.8%\n",
      "train loss : 0.056625, train predict = 79.9%\n",
      "\n",
      "time elapsed: 0:00:31.052018\n",
      "\n",
      "val loss   : 0.189515, val predict   = 66.3%\n",
      "train loss : 0.045120, train predict = 83.5%\n",
      "\n",
      "time elapsed: 0:00:31.008704\n",
      "\n",
      "val loss   : 0.195675, val predict   = 67.0%\n",
      "train loss : 0.038035, train predict = 85.7%\n",
      "\n",
      "time elapsed: 0:00:30.923266\n",
      "\n",
      "val loss   : 0.182392, val predict   = 67.7%\n",
      "train loss : 0.029212, train predict = 88.4%\n",
      "\n",
      "time elapsed: 0:00:31.334678\n",
      "\n",
      "val loss   : 0.224800, val predict   = 64.9%\n",
      "train loss : 0.030478, train predict = 87.4%\n",
      "\n",
      "time elapsed: 0:00:34.660690\n",
      "\n",
      "val loss   : 0.207009, val predict   = 66.2%\n",
      "train loss : 0.022396, train predict = 90.6%\n",
      "\n",
      "time elapsed: 0:00:31.779834\n",
      "\n",
      "val loss   : 0.222044, val predict   = 65.8%\n",
      "train loss : 0.020435, train predict = 89.5%\n",
      "\n",
      "time elapsed: 0:01:03.747805\n",
      "\n",
      "val loss   : 0.226475, val predict   = 64.3%\n",
      "train loss : 0.015419, train predict = 93.6%\n",
      "\n",
      "time elapsed: 0:01:07.012743\n",
      "\n",
      "val loss   : 0.248240, val predict   = 64.2%\n",
      "train loss : 0.013359, train predict = 94.1%\n",
      "\n",
      "time elapsed: 0:01:03.799320\n",
      "\n",
      "val loss   : 0.239371, val predict   = 65.3%\n",
      "train loss : 0.010544, train predict = 95.5%\n",
      "\n",
      "time elapsed: 0:01:05.034496\n",
      "\n",
      "val loss   : 0.242542, val predict   = 65.0%\n",
      "train loss : 0.009302, train predict = 96.0%\n",
      "\n",
      "time elapsed: 0:01:09.288350\n",
      "\n",
      "val loss   : 0.252138, val predict   = 63.5%\n",
      "train loss : 0.007022, train predict = 97.3%\n",
      "\n",
      "time elapsed: 0:01:04.152014\n",
      "\n",
      "val loss   : 0.264122, val predict   = 65.7%\n",
      "train loss : 0.006908, train predict = 97.1%\n",
      "\n",
      "time elapsed: 0:01:04.769680\n",
      "\n",
      "val loss   : 0.269641, val predict   = 64.3%\n",
      "train loss : 0.004949, train predict = 98.2%\n",
      "\n",
      "time elapsed: 0:01:10.290973\n",
      "\n",
      "val loss   : 0.263370, val predict   = 65.7%\n",
      "train loss : 0.004948, train predict = 98.0%\n",
      "\n",
      "time elapsed: 0:01:06.166516\n",
      "\n",
      "val loss   : 0.313401, val predict   = 62.5%\n",
      "train loss : 0.003186, train predict = 98.8%\n",
      "\n",
      "time elapsed: 0:01:03.951709\n",
      "\n",
      "val loss   : 0.265661, val predict   = 65.3%\n",
      "train loss : 0.002915, train predict = 99.3%\n",
      "\n",
      "time elapsed: 0:01:05.435047\n",
      "\n",
      "val loss   : 0.291284, val predict   = 64.9%\n",
      "train loss : 0.002614, train predict = 99.2%\n",
      "\n",
      "time elapsed: 0:01:04.756293\n",
      "\n",
      "interrupted by user\n"
     ]
    }
   ],
   "source": [
    "from datetime import datetime\n",
    "\n",
    "for i in range(100000):\n",
    "    try:\n",
    "        start = datetime.now()\n",
    "        train_batch(train_iter)\n",
    "        if i % 1000 == 0:\n",
    "            val_loss, val_predict = eval_batch(val_iter, 16)\n",
    "            train_loss, train_predict = eval_batch(train_iter, 16)\n",
    "            print \"val loss   : %f, val predict   = %.1f%%\" %(val_loss, val_predict * 100)\n",
    "            print \"train loss : %f, train predict = %.1f%%\" %(train_loss, train_predict * 100)\n",
    "            print\n",
    "            print 'time elapsed: %s'% (datetime.now() - start)\n",
    "            print \n",
    "            sys.stdout.flush()\n",
    "    except KeyboardInterrupt:\n",
    "        print \"interrupted by user\"\n",
    "        break"
   ]
  },
  {
   "cell_type": "code",
   "execution_count": 29,
   "metadata": {
    "collapsed": true
   },
   "outputs": [],
   "source": [
    "eval_loss, output, X, Y = get_eval_batch_data(test_iter)\n",
    "test_loss, test_predict = eval_batch(test_iter, 16)"
   ]
  },
  {
   "cell_type": "code",
   "execution_count": 30,
   "metadata": {
    "collapsed": false
   },
   "outputs": [
    {
     "name": "stdout",
     "output_type": "stream",
     "text": [
      "form                                                                   real lemma                predicted lemma           is correct\n",
      "\n",
      "b e i l l i t u s ́ ́ ́ ́ ́ ́ ́ ́ ́ ́ ́ ́ ́ ́ ́ ́                      belletus                  beillitus                 False\n",
      "u i s c e m l a c h t ́ ́ ́ ́ ́ ́ ́ ́ ́ ́ ́ ́ ́ ́                      uiscemlacht               uiscemlacht               True\n",
      "c o m c a i s i u ́ ́ ́ ́ ́ ́ ́ ́ ́ ́ ́ ́ ́ ́ ́ ́                      comcaisiu                 comcaisiu                 True\n",
      "a s a í t e c h ́ ́ ́ ́ ́ ́ ́ ́ ́ ́ ́ ́ ́ ́ ́ ́ ́                      asaítech                  asaítech                  True\n",
      "l á n a m a n d a ́ ́ ́ ́ ́ ́ ́ ́ ́ ́ ́ ́ ́ ́ ́ ́                      lánamanda                 lánamanda                 True\n",
      "a b n a i r e ́ ́ ́ ́ ́ ́ ́ ́ ́ ́ ́ ́ ́ ́ ́ ́ ́ ́                      abnaire                   anbaire                   False\n",
      "d e c l a m ́ ́ ́ ́ ́ ́ ́ ́ ́ ́ ́ ́ ́ ́ ́ ́ ́ ́ ́                      declam                    declaim                   False\n",
      "t o l g d a ́ ́ ́ ́ ́ ́ ́ ́ ́ ́ ́ ́ ́ ́ ́ ́ ́ ́ ́                      tolgda                    tolgda                    True\n",
      "d í s c a í l t i d ́ ́ ́ ́ ́ ́ ́ ́ ́ ́ ́ ́ ́ ́ ́                      díscaíltid                díscaíltid                True\n",
      "b u n a d a s a c h ́ ́ ́ ́ ́ ́ ́ ́ ́ ́ ́ ́ ́ ́ ́                      bunadasach                bunadasach                True\n",
      "c ó n s d a p l a ́ ́ ́ ́ ́ ́ ́ ́ ́ ́ ́ ́ ́ ́ ́ ́                      constabla                 cónstóla                  False\n",
      "a i n i n n r a c a s ́ ́ ́ ́ ́ ́ ́ ́ ́ ́ ́ ́ ́ ́                      aininnracas               aininnracus               False\n",
      "c o m b l a d a c h ́ ́ ́ ́ ́ ́ ́ ́ ́ ́ ́ ́ ́ ́ ́                      combladach                combladach                True\n",
      "l í g d a ́ ́ ́ ́ ́ ́ ́ ́ ́ ́ ́ ́ ́ ́ ́ ́ ́ ́ ́ ́                      lígda                     lígda                     True\n",
      "d a i d b r e ́ ́ ́ ́ ́ ́ ́ ́ ́ ́ ́ ́ ́ ́ ́ ́ ́ ́                      daidbre                   daidbre                   True\n",
      "c o m b l a i d ́ ́ ́ ́ ́ ́ ́ ́ ́ ́ ́ ́ ́ ́ ́ ́ ́                      comblaid                  comblaid                  True\n",
      "o g m a ́ ́ ́ ́ ́ ́ ́ ́ ́ ́ ́ ́ ́ ́ ́ ́ ́ ́ ́ ́ ́                      ogma                      ogma                      True\n",
      "c r o b ́ ́ ́ ́ ́ ́ ́ ́ ́ ́ ́ ́ ́ ́ ́ ́ ́ ́ ́ ́ ́                      crob                      crob                      True\n",
      "b e l l i t ́ ́ ́ ́ ́ ́ ́ ́ ́ ́ ́ ́ ́ ́ ́ ́ ́ ́ ́                      bellit                    bellit                    True\n",
      "c o m r a r ́ ́ ́ ́ ́ ́ ́ ́ ́ ́ ́ ́ ́ ́ ́ ́ ́ ́ ́                      comrar                    comrar                    True\n",
      "s c o r n a c h ́ ́ ́ ́ ́ ́ ́ ́ ́ ́ ́ ́ ́ ́ ́ ́ ́                      scornach                  scornach                  True\n",
      "s o d c h a ́ ́ ́ ́ ́ ́ ́ ́ ́ ́ ́ ́ ́ ́ ́ ́ ́ ́ ́                      sothcad                   sodech                    False\n",
      "a i t h t i n ó l a i d ́ ́ ́ ́ ́ ́ ́ ́ ́ ́ ́ ́ ́                      aithtinólaid              aithitnóigada             False\n",
      "d í l i t h ́ ́ ́ ́ ́ ́ ́ ́ ́ ́ ́ ́ ́ ́ ́ ́ ́ ́ ́                      dílith                    dílith                    True\n",
      "f o r d a r c ́ ́ ́ ́ ́ ́ ́ ́ ́ ́ ́ ́ ́ ́ ́ ́ ́ ́                      fordarc                   fordarc                   True\n",
      "c r i a t h r a i g h ́ ́ ́ ́ ́ ́ ́ ́ ́ ́ ́ ́ ́ ́                      críathrach                críathraig                False\n",
      "b á e g l a i g e ́ ́ ́ ́ ́ ́ ́ ́ ́ ́ ́ ́ ́ ́ ́ ́                      báeglaige                 báeglaige                 True\n",
      "l é i m n i g e ́ ́ ́ ́ ́ ́ ́ ́ ́ ́ ́ ́ ́ ́ ́ ́ ́                      léimnige                  léimnige                  True\n",
      "c o í n e c h ́ ́ ́ ́ ́ ́ ́ ́ ́ ́ ́ ́ ́ ́ ́ ́ ́ ́                      coínech                   caínech                   False\n",
      "d e a r r t a n ́ ́ ́ ́ ́ ́ ́ ́ ́ ́ ́ ́ ́ ́ ́ ́ ́                      derdan                    derrtan                   False\n",
      "s í t h ó l a c h t ́ ́ ́ ́ ́ ́ ́ ́ ́ ́ ́ ́ ́ ́ ́                      síthóltacht               síthólacht                False\n",
      "a i r a i c c e c h t ́ ́ ́ ́ ́ ́ ́ ́ ́ ́ ́ ́ ́ ́                      airaiccecht               airaiccecht               True\n",
      "s t a l c a i r e ́ ́ ́ ́ ́ ́ ́ ́ ́ ́ ́ ́ ́ ́ ́ ́                      stalcaire                 stalcaire                 True\n",
      "g e l a i g i d ́ ́ ́ ́ ́ ́ ́ ́ ́ ́ ́ ́ ́ ́ ́ ́ ́                      gelaigid                  gelaigid                  True\n",
      "d o g n á s ́ ́ ́ ́ ́ ́ ́ ́ ́ ́ ́ ́ ́ ́ ́ ́ ́ ́ ́                      domgnas                   dognás                    False\n",
      "d r a n a i r e ́ ́ ́ ́ ́ ́ ́ ́ ́ ́ ́ ́ ́ ́ ́ ́ ́                      dranaire                  dranaire                  True\n",
      "p i n n t e ó r a c h t ́ ́ ́ ́ ́ ́ ́ ́ ́ ́ ́ ́ ́                      pinnteóracht              pinnteóracht              True\n",
      "a t h c h u m i l e d ́ ́ ́ ́ ́ ́ ́ ́ ́ ́ ́ ́ ́ ́                      athchumiled               athchuimled               False\n",
      "m e i n c e ́ ́ ́ ́ ́ ́ ́ ́ ́ ́ ́ ́ ́ ́ ́ ́ ́ ́ ́                      meince                    meince                    True\n",
      "g r a i g e c h ́ ́ ́ ́ ́ ́ ́ ́ ́ ́ ́ ́ ́ ́ ́ ́ ́                      graigech                  graigech                  True\n",
      "a i r g í a l l n a e ́ ́ ́ ́ ́ ́ ́ ́ ́ ́ ́ ́ ́ ́                      airgíallnae               airgíalnnae               False\n",
      "d o r l u n s e ́ ́ ́ ́ ́ ́ ́ ́ ́ ́ ́ ́ ́ ́ ́ ́ ́                      dorlunse                  dorluise                  False\n",
      "o i g i d ́ ́ ́ ́ ́ ́ ́ ́ ́ ́ ́ ́ ́ ́ ́ ́ ́ ́ ́ ́                      oigid                     oigid                     True\n",
      "g r e d h á i l ́ ́ ́ ́ ́ ́ ́ ́ ́ ́ ́ ́ ́ ́ ́ ́ ́                      gredáil                   gredáil                   True\n",
      "c u l b o d ́ ́ ́ ́ ́ ́ ́ ́ ́ ́ ́ ́ ́ ́ ́ ́ ́ ́ ́                      celtair                   culbod                    False\n",
      "o l c a c h ́ ́ ́ ́ ́ ́ ́ ́ ́ ́ ́ ́ ́ ́ ́ ́ ́ ́ ́                      olcach                    olcach                    True\n",
      "c e t t e i t ́ ́ ́ ́ ́ ́ ́ ́ ́ ́ ́ ́ ́ ́ ́ ́ ́ ́                      cetteit                   cetteit                   True\n",
      "a n a r s a i d ́ ́ ́ ́ ́ ́ ́ ́ ́ ́ ́ ́ ́ ́ ́ ́ ́                      anarsaid                  anarsaid                  True\n",
      "e c g u i s t i ́ ́ ́ ́ ́ ́ ́ ́ ́ ́ ́ ́ ́ ́ ́ ́ ́                      ecguiste                  ecguisti                  False\n",
      "c o m ḟ u i l i g e ́ ́ ́ ́ ́ ́ ́ ́ ́ ́ ́ ́ ́ ́ ́                      comḟuilid                 comḟuilige                False\n",
      "s l a t m ó i r e c h t ́ ́ ́ ́ ́ ́ ́ ́ ́ ́ ́ ́ ́                      slatmóirecht              slatmóirecht              True\n",
      "d a l l - c h l e s s ́ ́ ́ ́ ́ ́ ́ ́ ́ ́ ́ ́ ́ ́                      dall-chless               dallch-less               False\n",
      "f e o ́ ́ ́ ́ ́ ́ ́ ́ ́ ́ ́ ́ ́ ́ ́ ́ ́ ́ ́ ́ ́ ́                      feo                       fe                        False\n",
      "t a l m a n a c h t ́ ́ ́ ́ ́ ́ ́ ́ ́ ́ ́ ́ ́ ́ ́                      talmanacht                talmanacht                True\n",
      "e t r a i d e ́ ́ ́ ́ ́ ́ ́ ́ ́ ́ ́ ́ ́ ́ ́ ́ ́ ́                      etraide                   etraide                   True\n",
      "c o i m t h e g d a i s ́ ́ ́ ́ ́ ́ ́ ́ ́ ́ ́ ́ ́                      coimthegdais              coimthegdais              True\n",
      "s o r a i d ́ ́ ́ ́ ́ ́ ́ ́ ́ ́ ́ ́ ́ ́ ́ ́ ́ ́ ́                      soraid                    soraid                    True\n",
      "a i n t e i r t ́ ́ ́ ́ ́ ́ ́ ́ ́ ́ ́ ́ ́ ́ ́ ́ ́                      anteirt                   ainteirt                  False\n",
      "r e m i - e t a r c n a i g e d a r ́ ́ ́ ́ ́ ́ ́                      remi-etarcnaigedar        remi-etcanig              False\n",
      "f a d d á i l i d ́ ́ ́ ́ ́ ́ ́ ́ ́ ́ ́ ́ ́ ́ ́ ́                      faddáilid                 faddáilid                 True\n",
      "f o r f u i l l i d ́ ́ ́ ́ ́ ́ ́ ́ ́ ́ ́ ́ ́ ́ ́                      forfuillid                forfuillid                True\n",
      "d e c h m a d ́ ́ ́ ́ ́ ́ ́ ́ ́ ́ ́ ́ ́ ́ ́ ́ ́ ́                      dechmad                   dechmad                   True\n",
      "c á o n n a ́ ́ ́ ́ ́ ́ ́ ́ ́ ́ ́ ́ ́ ́ ́ ́ ́ ́ ́                      cáenna                    cáenna                    True\n",
      "d í c h o l l a c h ́ ́ ́ ́ ́ ́ ́ ́ ́ ́ ́ ́ ́ ́ ́                      díchollach                díchollach                True\n",
      "m u l l a c h r a i d e ́ ́ ́ ́ ́ ́ ́ ́ ́ ́ ́ ́ ́                      mullacrad                 mullcarhide               False\n",
      "c r a e s s a c h ́ ́ ́ ́ ́ ́ ́ ́ ́ ́ ́ ́ ́ ́ ́ ́                      cráesach                  craessach                 False\n",
      "b u r a i n n ́ ́ ́ ́ ́ ́ ́ ́ ́ ́ ́ ́ ́ ́ ́ ́ ́ ́                      burainn                   burainn                   True\n",
      "l ú a d a i r e ́ ́ ́ ́ ́ ́ ́ ́ ́ ́ ́ ́ ́ ́ ́ ́ ́                      lúadaire                  lúadaire                  True\n",
      "m u i n b e c h ́ ́ ́ ́ ́ ́ ́ ́ ́ ́ ́ ́ ́ ́ ́ ́ ́                      muinbech                  muinbech                  True\n",
      "é i c n i g e ́ ́ ́ ́ ́ ́ ́ ́ ́ ́ ́ ́ ́ ́ ́ ́ ́ ́                      éicnige                   éicnige                   True\n",
      "d í s c u i r i d ́ ́ ́ ́ ́ ́ ́ ́ ́ ́ ́ ́ ́ ́ ́ ́                      díscuirid                 díscuirid                 True\n",
      "a i c i l l i u g a d ́ ́ ́ ́ ́ ́ ́ ́ ́ ́ ́ ́ ́ ́                      aicilliugad               aicilliugad               True\n",
      "t u r c h a n t a i n ́ ́ ́ ́ ́ ́ ́ ́ ́ ́ ́ ́ ́ ́                      tudchaisin                turchantain               False\n",
      "d e i s c é i m m ́ ́ ́ ́ ́ ́ ́ ́ ́ ́ ́ ́ ́ ́ ́ ́                      deiscéimm                 deisceimm                 False\n",
      "i m m i t e c h t ́ ́ ́ ́ ́ ́ ́ ́ ́ ́ ́ ́ ́ ́ ́ ́                      immitecht                 immitecht                 True\n",
      "a i m b e c h t a e ́ ́ ́ ́ ́ ́ ́ ́ ́ ́ ́ ́ ́ ́ ́                      ainbechta                 aimbechtae                False\n",
      "d o - m é n a i n n ́ ́ ́ ́ ́ ́ ́ ́ ́ ́ ́ ́ ́ ́ ́                      do-ménainn                do-ménainn                True\n",
      "f a e d r e d ́ ́ ́ ́ ́ ́ ́ ́ ́ ́ ́ ́ ́ ́ ́ ́ ́ ́                      faedred                   faedred                   True\n",
      "l u n g e t a i b ́ ́ ́ ́ ́ ́ ́ ́ ́ ́ ́ ́ ́ ́ ́ ́                      lungetaib                 lungetaib                 True\n",
      "c u c h t ́ ́ ́ ́ ́ ́ ́ ́ ́ ́ ́ ́ ́ ́ ́ ́ ́ ́ ́ ́                      cucht                     cucht                     True\n",
      "e l e n n ́ ́ ́ ́ ́ ́ ́ ́ ́ ́ ́ ́ ́ ́ ́ ́ ́ ́ ́ ́                      elenn                     elenn                     True\n",
      "c o b s a i d e ́ ́ ́ ́ ́ ́ ́ ́ ́ ́ ́ ́ ́ ́ ́ ́ ́                      cobsaide                  cobsaide                  True\n",
      "p a r r t a l o n ́ ́ ́ ́ ́ ́ ́ ́ ́ ́ ́ ́ ́ ́ ́ ́                      partholón                 parrtalon                 False\n",
      "t - i a r r a t h ́ ́ ́ ́ ́ ́ ́ ́ ́ ́ ́ ́ ́ ́ ́ ́                      íarrath                   dírarth                   False\n",
      "d e m e s ́ ́ ́ ́ ́ ́ ́ ́ ́ ́ ́ ́ ́ ́ ́ ́ ́ ́ ́ ́                      demes                     demes                     True\n",
      "s l a i g t h e c h ́ ́ ́ ́ ́ ́ ́ ́ ́ ́ ́ ́ ́ ́ ́                      slaigthech                slaigthech                True\n",
      "c e s n a d a c h ́ ́ ́ ́ ́ ́ ́ ́ ́ ́ ́ ́ ́ ́ ́ ́                      cesnadach                 cesnadach                 True\n",
      "i r l i g i b ́ ́ ́ ́ ́ ́ ́ ́ ́ ́ ́ ́ ́ ́ ́ ́ ́ ́                      irligib                   ir-lig                    False\n",
      "d í c h e l t ́ ́ ́ ́ ́ ́ ́ ́ ́ ́ ́ ́ ́ ́ ́ ́ ́ ́                      díchelt                   díchelt                   True\n",
      "c o m d i n d b a ́ ́ ́ ́ ́ ́ ́ ́ ́ ́ ́ ́ ́ ́ ́ ́                      comdindba                 comdindba                 True\n",
      "i m m u s e r n - t a i s ́ ́ ́ ́ ́ ́ ́ ́ ́ ́ ́ ́                      imm-serna                 imm-asnerat               False\n",
      "a t r a m a i l ́ ́ ́ ́ ́ ́ ́ ́ ́ ́ ́ ́ ́ ́ ́ ́ ́                      atramail                  aitremail                 False\n",
      "a r - b a ́ ́ ́ ́ ́ ́ ́ ́ ́ ́ ́ ́ ́ ́ ́ ́ ́ ́ ́ ́                      ar-ba                     ar-ba                     True\n",
      "n - e t a r c n a i g e d a r ́ ́ ́ ́ ́ ́ ́ ́ ́ ́                      etargnaigidir             etarncaigedar             False\n",
      "r e m c i s s i n ́ ́ ́ ́ ́ ́ ́ ́ ́ ́ ́ ́ ́ ́ ́ ́                      remcaisiu                 remcissin                 False\n",
      "d o b o l a d ́ ́ ́ ́ ́ ́ ́ ́ ́ ́ ́ ́ ́ ́ ́ ́ ́ ́                      dobolad                   dobolad                   True\n",
      "f ú a r á n a c h ́ ́ ́ ́ ́ ́ ́ ́ ́ ́ ́ ́ ́ ́ ́ ́                      fúaránach                 fúaránach                 True\n",
      "i n s t r ú i m ́ ́ ́ ́ ́ ́ ́ ́ ́ ́ ́ ́ ́ ́ ́ ́ ́                      instrúim                  instrúim                  True\n",
      "c n e s t a c h t ́ ́ ́ ́ ́ ́ ́ ́ ́ ́ ́ ́ ́ ́ ́ ́                      cnestacht                 cnestacht                 True\n",
      "d a t h a d ́ ́ ́ ́ ́ ́ ́ ́ ́ ́ ́ ́ ́ ́ ́ ́ ́ ́ ́                      dathad                    dathad                    True\n",
      "g e a d ́ ́ ́ ́ ́ ́ ́ ́ ́ ́ ́ ́ ́ ́ ́ ́ ́ ́ ́ ́ ́                      gead                      ged                       False\n",
      "a r - c o m - i c c ́ ́ ́ ́ ́ ́ ́ ́ ́ ́ ́ ́ ́ ́ ́                      ar-cóemsat                ar-coimcin                False\n",
      "a i r i s s a ́ ́ ́ ́ ́ ́ ́ ́ ́ ́ ́ ́ ́ ́ ́ ́ ́ ́                      airassa                   airissa                   False\n",
      "d r o g m a r ́ ́ ́ ́ ́ ́ ́ ́ ́ ́ ́ ́ ́ ́ ́ ́ ́ ́                      drogmar                   drogmar                   True\n",
      "a r - t r e b a ́ ́ ́ ́ ́ ́ ́ ́ ́ ́ ́ ́ ́ ́ ́ ́ ́                      ar-treba                  ar-treba                  True\n",
      "d í r m a ́ ́ ́ ́ ́ ́ ́ ́ ́ ́ ́ ́ ́ ́ ́ ́ ́ ́ ́ ́                      dírma                     dírma                     True\n",
      "ó i r l i n n ́ ́ ́ ́ ́ ́ ́ ́ ́ ́ ́ ́ ́ ́ ́ ́ ́ ́                      óirlinn                   óirlinn                   True\n",
      "c o m o r b a m i n ́ ́ ́ ́ ́ ́ ́ ́ ́ ́ ́ ́ ́ ́ ́                      comorbamin                comorbamin                True\n",
      "c n ú a s a i g i d ́ ́ ́ ́ ́ ́ ́ ́ ́ ́ ́ ́ ́ ́ ́                      cnúasaigid                cnúasaigid                True\n",
      "t a i r n g e d ́ ́ ́ ́ ́ ́ ́ ́ ́ ́ ́ ́ ́ ́ ́ ́ ́                      tairnged                  tairnged                  True\n",
      "i m d e r c ́ ́ ́ ́ ́ ́ ́ ́ ́ ́ ́ ́ ́ ́ ́ ́ ́ ́ ́                      imderc                    imderc                    True\n",
      "c e c h l a i g i ́ ́ ́ ́ ́ ́ ́ ́ ́ ́ ́ ́ ́ ́ ́ ́                      cechlaigi                 cechlaigi                 True\n",
      "é c c u i b s e c h ́ ́ ́ ́ ́ ́ ́ ́ ́ ́ ́ ́ ́ ́ ́                      éccuibsech                éccuibsech                True\n",
      "d e n m n e t a c h ́ ́ ́ ́ ́ ́ ́ ́ ́ ́ ́ ́ ́ ́ ́                      deinmnetach               denmnetach                False\n",
      "c o m m - a - a i r i c ́ ́ ́ ́ ́ ́ ́ ́ ́ ́ ́ ́ ́                      imm-airicc                commai-airc               False\n",
      "a r s e c h a ́ ́ ́ ́ ́ ́ ́ ́ ́ ́ ́ ́ ́ ́ ́ ́ ́ ́                      arsecha                   arsecha                   True\n",
      "d e a g a t h a ́ ́ ́ ́ ́ ́ ́ ́ ́ ́ ́ ́ ́ ́ ́ ́ ́                      degatha                   de-ga                     False\n",
      "t a m h n a i g h i ́ ́ ́ ́ ́ ́ ́ ́ ́ ́ ́ ́ ́ ́ ́                      tamnach                   tamnaig                   False\n",
      "a i n i n n e ́ ́ ́ ́ ́ ́ ́ ́ ́ ́ ́ ́ ́ ́ ́ ́ ́ ́                      aininne                   aininne                   True\n",
      "t r a o s ́ ́ ́ ́ ́ ́ ́ ́ ́ ́ ́ ́ ́ ́ ́ ́ ́ ́ ́ ́                      traos                     traos                     True\n",
      "d á m a l t a c h ́ ́ ́ ́ ́ ́ ́ ́ ́ ́ ́ ́ ́ ́ ́ ́                      dámaltach                 dámaltach                 True\n",
      "m a n c h a c h ́ ́ ́ ́ ́ ́ ́ ́ ́ ́ ́ ́ ́ ́ ́ ́ ́                      manchach                  manchach                  True\n",
      "m i d g l a ́ ́ ́ ́ ́ ́ ́ ́ ́ ́ ́ ́ ́ ́ ́ ́ ́ ́ ́                      midgla                    midgla                    True\n",
      "c u m n a n t ́ ́ ́ ́ ́ ́ ́ ́ ́ ́ ́ ́ ́ ́ ́ ́ ́ ́                      cumnanta                  cumnant                   False\n",
      "s c o t h a m l a c h t ́ ́ ́ ́ ́ ́ ́ ́ ́ ́ ́ ́ ́                      scothamlacht              scothamlacht              True\n",
      "i m t h o r a m ́ ́ ́ ́ ́ ́ ́ ́ ́ ́ ́ ́ ́ ́ ́ ́ ́                      imthoram                  imthoram                  True\n",
      "c u i m r e c h t a c h ́ ́ ́ ́ ́ ́ ́ ́ ́ ́ ́ ́ ́                      cuimrechtach              cuimrechtach              True\n",
      "s e m p u l ́ ́ ́ ́ ́ ́ ́ ́ ́ ́ ́ ́ ́ ́ ́ ́ ́ ́ ́                      sempul                    sempul                    True\n",
      "\n",
      "0.300556\n",
      "0.63890625\n"
     ]
    }
   ],
   "source": [
    "print \"form\".ljust(70),\n",
    "print \"real lemma\".ljust(25),\n",
    "print \"predicted lemma\".ljust(25),\n",
    "print \"is correct\"\n",
    "print\n",
    "\n",
    "for index in range(len(output)):\n",
    "    ngrams = \" \".join([index_to_letter[p] for p in X.T[index]]) \n",
    "    real = [index_to_letter[l] for l in Y.T[index]] \n",
    "    predict = [index_to_letter[l] for l in np.argmax(output, axis = 2)[index]]\n",
    "   \n",
    "    print ngrams.split(\" _\")[0].ljust(70),\n",
    "    print \"\".join(real).split(\"_\")[0].ljust(25),\n",
    "    print \"\".join(predict).split(\"_\")[0].ljust(25),\n",
    "    print str(real == predict)\n",
    "    \n",
    "print\n",
    "print test_loss\n",
    "print test_predict\n"
   ]
  },
  {
   "cell_type": "code",
   "execution_count": 31,
   "metadata": {
    "collapsed": false
   },
   "outputs": [
    {
     "data": {
      "text/plain": [
       "'char2char-1000'"
      ]
     },
     "execution_count": 31,
     "metadata": {},
     "output_type": "execute_result"
    }
   ],
   "source": [
    "saver = tf.train.Saver()\n",
    "saver.save(sess, 'char2char',global_step=1000)"
   ]
  },
  {
   "cell_type": "code",
   "execution_count": null,
   "metadata": {
    "collapsed": true
   },
   "outputs": [],
   "source": [
    "predictions = sess.run(feed_dict={X: image})\n",
    "print(predictions)"
   ]
  }
 ],
 "metadata": {
  "anaconda-cloud": {},
  "kernelspec": {
   "display_name": "Python 3",
   "language": "python",
   "name": "python3"
  },
  "language_info": {
   "codemirror_mode": {
    "name": "ipython",
    "version": 3
   },
   "file_extension": ".py",
   "mimetype": "text/x-python",
   "name": "python",
   "nbconvert_exporter": "python",
   "pygments_lexer": "ipython3",
   "version": "3.6.0"
  }
 },
 "nbformat": 4,
 "nbformat_minor": 2
}
