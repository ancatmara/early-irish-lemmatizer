{
 "cells": [
  {
   "cell_type": "markdown",
   "metadata": {},
   "source": [
    "## Sequence to sequence learning from TensorFlow\n",
    "\n",
    "### Model №2. Ngrams to Characters."
   ]
  },
  {
   "cell_type": "code",
   "execution_count": 1,
   "metadata": {
    "collapsed": true
   },
   "outputs": [],
   "source": [
    "# ngram encoding and decoding\n",
    "\n",
    "def word2ngrams(word, n=3):\n",
    "    ngrams = [word[i:i+n] for i in range(len(word)-n+1)]\n",
    "    return ngrams\n",
    "    \n",
    "def ngrams2word(ngrams, n=3):\n",
    "    word = ''.join([ngram[0] for ngram in ngrams])\n",
    "    word += ngrams[-1][-2] + ngrams[-1][-1]\n",
    "    return word"
   ]
  },
  {
   "cell_type": "code",
   "execution_count": 5,
   "metadata": {
    "collapsed": false
   },
   "outputs": [
    {
     "name": "stdout",
     "output_type": "stream",
     "text": [
      "8624\n",
      "43\n",
      "eschoitchennaighthe\n",
      "[7940, 8375, 5519, 7324, 815, 7683, 1435, 2370, 4395, 6981, 3952, 3796, 7806, 6555, 5733, 8256, 5657]\n",
      "dochenélaigidir\n",
      "[1751, 7805, 7260, 619, 8324, 1675, 2628, 7569, 2370, 4395, 7514, 7412, 2991, 5957, 6960, 7806, 8553, 1745, 2743, 874, 3307, 2502]\n",
      "triscatail-trénfher\n",
      "[2195, 7555, 7100, 924, 7879, 2217, 1969, 3202, 8254, 4801, 1355, 7355, 6481, 813, 1594, 4780]\n",
      "19\n",
      "22\n"
     ]
    }
   ],
   "source": [
    "import codecs\n",
    "\n",
    "letters = u\"́-_'abcdefghijklmnopqrstuvwxyzáóúíéṡḟæǽβęœī\"\n",
    "\n",
    "# cleaned dictionary \n",
    "with codecs.open('LemmaDict.txt', 'r', encoding='utf-8') as f:\n",
    "    LemmaDict ={}\n",
    "    for line in f:\n",
    "        try:\n",
    "            items = line.strip('\\r\\n').split('\\t')\n",
    "            LemmaDict[items[0]] = items[1]\n",
    "        except IndexError:\n",
    "            pass\n",
    "                               \n",
    "ngrams = []\n",
    "for form, lemma in LemmaDict.items():\n",
    "    ngrams += word2ngrams(form)\n",
    "    ngrams += word2ngrams(lemma)\n",
    "ngrams = set(ngrams)\n",
    "print(len(ngrams))\n",
    "print(len(letters))\n",
    "\n",
    "# converting trigrams and letters to indices\n",
    "index_to_letter = dict(enumerate(letters))\n",
    "letter_to_index = dict((v, k) for k,v in index_to_letter.items())\n",
    "index_to_ngram = dict(enumerate(ngrams))\n",
    "ngram_to_index = dict((v, k) for k,v in index_to_ngram.items())\n",
    "\n",
    "\n",
    "EncodedLemmaDict = {}\n",
    "for form, lemma in LemmaDict.items():\n",
    "    try:\n",
    "        EncodedLemmaDict[lemma.lower()] = [ngram_to_index[ngram] for ngram in word2ngrams(form)]\n",
    "    except IndexError:\n",
    "        pass\n",
    "                               \n",
    "    \n",
    "max_k = max([len(k) for k,v in EncodedLemmaDict.items()])\n",
    "max_v = max([len(v) for k,v in EncodedLemmaDict.items()])\n",
    "for k,v in EncodedLemmaDict.items():\n",
    "    if len(k) == max_k or  len(v) == max_v:\n",
    "        print(k)\n",
    "        print(v)\n",
    "        \n",
    "print(max_k)\n",
    "print(max_v)"
   ]
  },
  {
   "cell_type": "code",
   "execution_count": 8,
   "metadata": {
    "collapsed": false
   },
   "outputs": [],
   "source": [
    "import numpy as np\n",
    "\n",
    "pairs = np.random.permutation(list(EncodedLemmaDict.keys()))\n",
    "\n",
    "input_ = np.zeros((len(pairs), 67)) \n",
    "labels_ = np.zeros((len(pairs), 23))\n",
    "for i, k in enumerate(pairs):\n",
    "    v = EncodedLemmaDict[k]\n",
    "    k = k + \"_\" * (22 - len(k))\n",
    "    v = v + [0] * (19 - len(v))\n",
    "    for j, n in enumerate(v):\n",
    "        input_[i][j] = n\n",
    "    for j, letter in enumerate(k.split()):\n",
    "        try:\n",
    "            labels_[i][j] = letter_to_index[letter]\n",
    "        except KeyError:\n",
    "            pass\n",
    "        \n",
    "input_ = input_.astype(np.int32)\n",
    "labels_ = labels_.astype(np.int32)\n",
    "\n",
    "input_test   = input_[:5000]\n",
    "input_val    = input_[5000:10000]\n",
    "input_train  = input_[10000:]\n",
    "labels_test  = labels_[:5000]\n",
    "labels_val   = labels_[5000:10000]\n",
    "labels_train = labels_[10000:]\n",
    "\n",
    "data_test  = zip(input_test, labels_test)\n",
    "data_val   = zip(input_val, labels_val)\n",
    "data_train = zip(input_train, labels_train)"
   ]
  },
  {
   "cell_type": "code",
   "execution_count": 10,
   "metadata": {
    "collapsed": false
   },
   "outputs": [
    {
     "name": "stdout",
     "output_type": "stream",
     "text": [
      "(array([8120,  643, 1285, 4838, 3794, 2882,   64,    0,    0,    0,    0,\n",
      "          0,    0,    0,    0,    0,    0,    0,    0,    0,    0,    0,\n",
      "          0,    0,    0,    0,    0,    0,    0,    0,    0,    0,    0,\n",
      "          0,    0,    0,    0,    0,    0,    0,    0,    0,    0,    0,\n",
      "          0,    0,    0,    0,    0,    0,    0,    0,    0,    0,    0,\n",
      "          0,    0,    0,    0,    0,    0,    0,    0,    0,    0,    0,\n",
      "          0]), array([0, 0, 0, 0, 0, 0, 0, 0, 0, 0, 0, 0, 0, 0, 0, 0, 0, 0, 0, 0, 0, 0, 0]))\n"
     ]
    }
   ],
   "source": [
    "print(list(data_train)[9679])"
   ]
  },
  {
   "cell_type": "code",
   "execution_count": 12,
   "metadata": {
    "collapsed": false
   },
   "outputs": [],
   "source": [
    "# building the model (analogous to grapheme-to-phoneme models)\n",
    "\n",
    "import tensorflow as tf\n",
    "import numpy as np\n",
    "from tensorflow.python.framework import ops\n",
    "from tensorflow.contrib.rnn import RNNCell, MultiRNNCell, DropoutWrapper, BasicLSTMCell\n",
    "from tensorflow.contrib.legacy_seq2seq import embedding_rnn_seq2seq, sequence_loss\n",
    "from tensorflow.contrib import seq2seq"
   ]
  },
  {
   "cell_type": "code",
   "execution_count": 7,
   "metadata": {
    "collapsed": true
   },
   "outputs": [],
   "source": [
    "ops.reset_default_graph()\n",
    "try:\n",
    "    sess.close()\n",
    "except:\n",
    "    \n",
    "    pass\n",
    "sess = tf.InteractiveSession()"
   ]
  },
  {
   "cell_type": "code",
   "execution_count": 8,
   "metadata": {
    "collapsed": true
   },
   "outputs": [],
   "source": [
    "input_seq_length = 22\n",
    "output_seq_length = 19\n",
    "batch_size = 128\n",
    "\n",
    "input_vocab_size = 8624\n",
    "output_vocab_size = 43\n",
    "embedding_dim = 256"
   ]
  },
  {
   "cell_type": "code",
   "execution_count": 9,
   "metadata": {
    "collapsed": true
   },
   "outputs": [],
   "source": [
    "encode_input = [tf.placeholder(tf.int32, \n",
    "                                shape=(None,),\n",
    "                                name = \"ei_%i\" %i)\n",
    "                                for i in range(input_seq_length)]\n",
    "\n",
    "labels = [tf.placeholder(tf.int32,\n",
    "                                shape=(None,),\n",
    "                                name = \"l_%i\" %i)\n",
    "                                for i in range(output_seq_length)]\n",
    "\n",
    "decode_input = [tf.zeros_like(encode_input[0], dtype=np.int32, name=\"GO\")] + labels[:-1]"
   ]
  },
  {
   "cell_type": "code",
   "execution_count": 10,
   "metadata": {
    "collapsed": true
   },
   "outputs": [],
   "source": [
    "keep_prob = tf.placeholder(\"float\")\n",
    "\n",
    "cells = [DropoutWrapper(\n",
    "        BasicLSTMCell(embedding_dim), output_keep_prob=keep_prob) for i in range(3)]\n",
    "\n",
    "stacked_lstm = MultiRNNCell(cells)\n",
    "\n",
    "with tf.variable_scope(\"decoders\") as scope:\n",
    "    decode_outputs, decode_state = embedding_rnn_seq2seq(\n",
    "        encode_input, decode_input, stacked_lstm, input_vocab_size, output_vocab_size, embedding_dim)\n",
    "    \n",
    "    scope.reuse_variables()\n",
    "    \n",
    "    decode_outputs_test, decode_state_test = embedding_rnn_seq2seq(\n",
    "        encode_input, decode_input, stacked_lstm, input_vocab_size, output_vocab_size, embedding_dim,\n",
    "    feed_previous=True)"
   ]
  },
  {
   "cell_type": "code",
   "execution_count": 11,
   "metadata": {
    "collapsed": true
   },
   "outputs": [],
   "source": [
    "loss_weights = [tf.ones_like(l, dtype=tf.float32) for l in labels]\n",
    "loss = sequence_loss(decode_outputs, labels, loss_weights, output_vocab_size)\n",
    "optimizer = tf.train.AdamOptimizer(1e-4)\n",
    "train_op = optimizer.minimize(loss)"
   ]
  },
  {
   "cell_type": "code",
   "execution_count": 12,
   "metadata": {
    "collapsed": false
   },
   "outputs": [
    {
     "name": "stdout",
     "output_type": "stream",
     "text": [
      "WARNING:tensorflow:From <ipython-input-12-9f5df2c7784a>:1: initialize_all_variables (from tensorflow.python.ops.variables) is deprecated and will be removed after 2017-03-02.\n",
      "Instructions for updating:\n",
      "Use `tf.global_variables_initializer` instead.\n"
     ]
    }
   ],
   "source": [
    "sess.run(tf.initialize_all_variables())"
   ]
  },
  {
   "cell_type": "markdown",
   "metadata": {},
   "source": [
    "### Training model"
   ]
  },
  {
   "cell_type": "code",
   "execution_count": 13,
   "metadata": {
    "collapsed": true
   },
   "outputs": [],
   "source": [
    "class DataIterator:\n",
    "    def __init__(self, data, batch_size):\n",
    "        self.data = data\n",
    "        self.batch_size = batch_size\n",
    "        self.iter = self.make_random_iter()\n",
    "        \n",
    "    def next_batch(self):\n",
    "        try:\n",
    "            idxs = self.iter.next()\n",
    "        except StopIteration:\n",
    "            self.iter = self.make_random_iter()\n",
    "            idxs = self.iter.next()\n",
    "        X, Y = zip(*[self.data[i] for i in idxs])\n",
    "        X = np.array(X).T\n",
    "        Y = np.array(Y).T\n",
    "        return X, Y\n",
    "\n",
    "    def make_random_iter(self):\n",
    "        splits = np.arange(self.batch_size, len(self.data), self.batch_size)\n",
    "        it = np.split(np.random.permutation(range(len(self.data))), splits)[:-1]\n",
    "        return iter(it)\n",
    "    \n",
    "train_iter = DataIterator(data_train, 128)\n",
    "val_iter = DataIterator(data_val, 128)\n",
    "test_iter = DataIterator(data_test, 128)"
   ]
  },
  {
   "cell_type": "code",
   "execution_count": 14,
   "metadata": {
    "collapsed": true
   },
   "outputs": [],
   "source": [
    "import sys\n",
    "\n",
    "def get_feed(X, Y):\n",
    "    feed_dict = {encode_input[t]: X[t] for t in range(input_seq_length)}\n",
    "    feed_dict.update({labels[t]: Y[t] for t in range(output_seq_length)})\n",
    "    return feed_dict\n",
    "\n",
    "def train_batch(data_iter):\n",
    "    X, Y = data_iter.next_batch()\n",
    "    feed_dict = get_feed(X, Y)\n",
    "    feed_dict[keep_prob] = 0.5\n",
    "    _, out = sess.run([train_op, loss], feed_dict)\n",
    "    return out\n",
    "\n",
    "def get_eval_batch_data(data_iter):\n",
    "    X, Y = data_iter.next_batch()\n",
    "    feed_dict = get_feed(X, Y)\n",
    "    feed_dict[keep_prob] = 1.\n",
    "    all_output = sess.run([loss] + decode_outputs_test, feed_dict)\n",
    "    eval_loss = all_output[0]\n",
    "    decode_output = np.array(all_output[1:]).transpose([1,0,2])\n",
    "    return eval_loss, decode_output, X, Y\n",
    "\n",
    "def eval_batch(data_iter, num_batches):\n",
    "    losses = []\n",
    "    predict_loss = []\n",
    "    for i in range(num_batches):\n",
    "        eval_loss, output, X, Y = get_eval_batch_data(data_iter)\n",
    "        losses.append(eval_loss)\n",
    "        \n",
    "        for index in range(len(output)):\n",
    "            real = Y.T[index]\n",
    "            predict = np.argmax(output, axis = 2)[index]\n",
    "            predict_loss.append(all(real==predict))\n",
    "    return np.mean(losses), np.mean(predict_loss)"
   ]
  },
  {
   "cell_type": "code",
   "execution_count": null,
   "metadata": {
    "collapsed": false
   },
   "outputs": [
    {
     "name": "stdout",
     "output_type": "stream",
     "text": [
      "0\n",
      "val loss   : 9.028131, val predict   = 0.0%\n",
      "\n",
      "train loss : 9.028156, train predict = 0.0%\n",
      "time elapsed: 0:08:58.397458\n",
      "\n",
      "1000\n",
      "val loss   : 1.846467, val predict   = 0.0%\n",
      "\n",
      "train loss : 1.804592, train predict = 0.0%\n",
      "time elapsed: 0:08:41.915604\n",
      "\n",
      "2000\n",
      "val loss   : 1.703288, val predict   = 0.0%\n",
      "\n",
      "train loss : 1.646480, train predict = 0.0%\n",
      "time elapsed: 0:08:51.067687\n",
      "\n",
      "3000\n",
      "val loss   : 1.598190, val predict   = 0.0%\n",
      "\n",
      "train loss : 1.566288, train predict = 0.0%\n",
      "time elapsed: 0:08:41.543225\n",
      "\n",
      "4000\n",
      "val loss   : 1.472756, val predict   = 2.1%\n",
      "\n",
      "train loss : 1.460001, train predict = 1.5%\n",
      "time elapsed: 0:08:36.432005\n",
      "\n",
      "5000\n",
      "val loss   : 1.394976, val predict   = 1.4%\n",
      "\n",
      "train loss : 1.331762, train predict = 1.6%\n",
      "time elapsed: 0:08:39.360730\n",
      "\n"
     ]
    }
   ],
   "source": [
    "from datetime import datetime\n",
    "\n",
    "for i in range(100000):\n",
    "    try:\n",
    "        start = datetime.now()\n",
    "        train_batch(train_iter)\n",
    "        if i % 1000 == 0:\n",
    "            print(i)\n",
    "            val_loss, val_predict = eval_batch(val_iter, 16)\n",
    "            train_loss, train_predict = eval_batch(train_iter, 16)\n",
    "            print(\"val loss   : %f, val predict   = %.1f%%\" %(val_loss, val_predict * 100))\n",
    "            print(\"train loss : %f, train predict = %.1f%%\" %(train_loss, train_predict * 100))\n",
    "            print('time elapsed: %s'% (datetime.now() - start))\n",
    "            print()\n",
    "            sys.stdout.flush()\n",
    "    except KeyboardInterrupt:\n",
    "        print(\"interrupted by user\")\n",
    "        break"
   ]
  },
  {
   "cell_type": "markdown",
   "metadata": {},
   "source": [
    "### Evaluating model"
   ]
  },
  {
   "cell_type": "code",
   "execution_count": 41,
   "metadata": {
    "collapsed": true
   },
   "outputs": [],
   "source": [
    "eval_loss, output, X, Y = get_eval_batch_data(test_iter)\n",
    "test_loss, test_predict = eval_batch(test_iter, 16)"
   ]
  },
  {
   "cell_type": "code",
   "execution_count": null,
   "metadata": {
    "collapsed": false,
    "scrolled": false
   },
   "outputs": [],
   "source": [
    "print(\"form\".ljust(40)),\n",
    "print(\"real lemma\".ljust(17)),\n",
    "print(\"predicted lemma\".ljust(17)),\n",
    "print()\"is correct\"\n",
    "print\n",
    "\n",
    "for index in range(len(output)):\n",
    "    ngrams = \" \".join([index_to_ngram[p] for p in X.T[index]]) \n",
    "    real = [index_to_ngram[l] for l in Y.T[index]] \n",
    "    predict = [index_to_ngram[l] for l in np.argmax(output, axis = 2)[index]]\n",
    "   \n",
    "    print ngrams.split(\" _\")[0].ljust(40),\n",
    "    print \"\".join(real).split(\"_\")[0].ljust(17),\n",
    "    print \"\".join(predict).split(\"_\")[0].ljust(17),\n",
    "    print str(real == predict)"
   ]
  }
 ],
 "metadata": {
  "kernelspec": {
   "display_name": "Python 3",
   "language": "python",
   "name": "python3"
  },
  "language_info": {
   "codemirror_mode": {
    "name": "ipython",
    "version": 3
   },
   "file_extension": ".py",
   "mimetype": "text/x-python",
   "name": "python",
   "nbconvert_exporter": "python",
   "pygments_lexer": "ipython3",
   "version": "3.6.0"
  }
 },
 "nbformat": 4,
 "nbformat_minor": 2
}
